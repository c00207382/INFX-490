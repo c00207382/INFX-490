{
 "cells": [
  {
   "cell_type": "markdown",
   "metadata": {
    "id": "cqWO1hYyFubY"
   },
   "source": [
    "# Loading dependencies and Mercari dataset."
   ]
  },
  {
   "cell_type": "code",
   "execution_count": 1,
   "metadata": {
    "id": "zwpPXhTMFubc"
   },
   "outputs": [],
   "source": [
    "# Pandas holds our original dataset, but we'll transfer numerical\n",
    "# encoding into a sparse numpy array.\n",
    "import pandas as pd\n",
    "import numpy as np\n",
    "\n",
    "# Sparse array tools that work with numpy.\n",
    "from scipy.sparse import csr_matrix, hstack\n",
    "\n",
    "from sklearn.model_selection import train_test_split\n",
    "from sklearn.preprocessing import OneHotEncoder\n",
    "\n",
    "# Consider for on `name` and `item_description` columns during second pipeline iteration.\n",
    "from sklearn.feature_extraction.text import CountVectorizer\n",
    "from sklearn.feature_extraction.text import TfidfVectorizer\n",
    "\n",
    "# Measure error on X_test.\n",
    "# Searches through tuning parameters within one model and chooses the best\n",
    "# set of tuning parameters.\n",
    "from sklearn.metrics import mean_squared_error\n",
    "from sklearn.model_selection import GridSearchCV\n",
    "\n",
    "# Tools we'll consider for LDA topic modeling in second pipeline iteration.\n",
    "#from gensim.models import LdaModel\n",
    "#from gensim.corpora import Dictionary\n",
    "\n",
    "# For plotting data. Not used right now.\n",
    "import matplotlib.pyplot as plt\n",
    "\n",
    "# System utilities.\n",
    "import time\n",
    "import sys\n",
    "\n",
    "# Currently using this model.\n",
    "from xgboost import XGBRegressor\n",
    "\n",
    "import lightgbm as lgb"
   ]
  },
  {
   "cell_type": "markdown",
   "metadata": {
    "id": "eX-ky95JFubo"
   },
   "source": [
    "# Load dataset `train.tsv` into pandas DataFrame `df` and print number of records."
   ]
  },
  {
   "cell_type": "code",
   "execution_count": 2,
   "metadata": {
    "colab": {
     "base_uri": "https://localhost:8080/",
     "height": 453
    },
    "id": "FWP_ha8NFubu",
    "outputId": "32dae62a-9731-4264-c42d-c8339ac48929"
   },
   "outputs": [
    {
     "name": "stdout",
     "output_type": "stream",
     "text": [
      "Number of records: 1482535\n"
     ]
    }
   ],
   "source": [
    "df = pd.read_csv(\"train.tsv\",sep='\\t')\n",
    "print(\"Number of records:\", len(df))"
   ]
  },
  {
   "cell_type": "markdown",
   "metadata": {
    "id": "tNfgaZOlFub2"
   },
   "source": [
    "# Preview the dataset with df.head()."
   ]
  },
  {
   "cell_type": "code",
   "execution_count": 3,
   "metadata": {
    "id": "ccqcszhEFub4"
   },
   "outputs": [
    {
     "data": {
      "text/html": [
       "<div>\n",
       "<style scoped>\n",
       "    .dataframe tbody tr th:only-of-type {\n",
       "        vertical-align: middle;\n",
       "    }\n",
       "\n",
       "    .dataframe tbody tr th {\n",
       "        vertical-align: top;\n",
       "    }\n",
       "\n",
       "    .dataframe thead th {\n",
       "        text-align: right;\n",
       "    }\n",
       "</style>\n",
       "<table border=\"1\" class=\"dataframe\">\n",
       "  <thead>\n",
       "    <tr style=\"text-align: right;\">\n",
       "      <th></th>\n",
       "      <th>train_id</th>\n",
       "      <th>name</th>\n",
       "      <th>item_condition_id</th>\n",
       "      <th>category_name</th>\n",
       "      <th>brand_name</th>\n",
       "      <th>price</th>\n",
       "      <th>shipping</th>\n",
       "      <th>item_description</th>\n",
       "    </tr>\n",
       "  </thead>\n",
       "  <tbody>\n",
       "    <tr>\n",
       "      <th>0</th>\n",
       "      <td>0</td>\n",
       "      <td>MLB Cincinnati Reds T Shirt Size XL</td>\n",
       "      <td>3</td>\n",
       "      <td>Men/Tops/T-shirts</td>\n",
       "      <td>NaN</td>\n",
       "      <td>10.0</td>\n",
       "      <td>1</td>\n",
       "      <td>No description yet</td>\n",
       "    </tr>\n",
       "    <tr>\n",
       "      <th>1</th>\n",
       "      <td>1</td>\n",
       "      <td>Razer BlackWidow Chroma Keyboard</td>\n",
       "      <td>3</td>\n",
       "      <td>Electronics/Computers &amp; Tablets/Components &amp; P...</td>\n",
       "      <td>Razer</td>\n",
       "      <td>52.0</td>\n",
       "      <td>0</td>\n",
       "      <td>This keyboard is in great condition and works ...</td>\n",
       "    </tr>\n",
       "    <tr>\n",
       "      <th>2</th>\n",
       "      <td>2</td>\n",
       "      <td>AVA-VIV Blouse</td>\n",
       "      <td>1</td>\n",
       "      <td>Women/Tops &amp; Blouses/Blouse</td>\n",
       "      <td>Target</td>\n",
       "      <td>10.0</td>\n",
       "      <td>1</td>\n",
       "      <td>Adorable top with a hint of lace and a key hol...</td>\n",
       "    </tr>\n",
       "    <tr>\n",
       "      <th>3</th>\n",
       "      <td>3</td>\n",
       "      <td>Leather Horse Statues</td>\n",
       "      <td>1</td>\n",
       "      <td>Home/Home Décor/Home Décor Accents</td>\n",
       "      <td>NaN</td>\n",
       "      <td>35.0</td>\n",
       "      <td>1</td>\n",
       "      <td>New with tags. Leather horses. Retail for [rm]...</td>\n",
       "    </tr>\n",
       "    <tr>\n",
       "      <th>4</th>\n",
       "      <td>4</td>\n",
       "      <td>24K GOLD plated rose</td>\n",
       "      <td>1</td>\n",
       "      <td>Women/Jewelry/Necklaces</td>\n",
       "      <td>NaN</td>\n",
       "      <td>44.0</td>\n",
       "      <td>0</td>\n",
       "      <td>Complete with certificate of authenticity</td>\n",
       "    </tr>\n",
       "  </tbody>\n",
       "</table>\n",
       "</div>"
      ],
      "text/plain": [
       "   train_id                                 name  item_condition_id  \\\n",
       "0         0  MLB Cincinnati Reds T Shirt Size XL                  3   \n",
       "1         1     Razer BlackWidow Chroma Keyboard                  3   \n",
       "2         2                       AVA-VIV Blouse                  1   \n",
       "3         3                Leather Horse Statues                  1   \n",
       "4         4                 24K GOLD plated rose                  1   \n",
       "\n",
       "                                       category_name brand_name  price  \\\n",
       "0                                  Men/Tops/T-shirts        NaN   10.0   \n",
       "1  Electronics/Computers & Tablets/Components & P...      Razer   52.0   \n",
       "2                        Women/Tops & Blouses/Blouse     Target   10.0   \n",
       "3                 Home/Home Décor/Home Décor Accents        NaN   35.0   \n",
       "4                            Women/Jewelry/Necklaces        NaN   44.0   \n",
       "\n",
       "   shipping                                   item_description  \n",
       "0         1                                 No description yet  \n",
       "1         0  This keyboard is in great condition and works ...  \n",
       "2         1  Adorable top with a hint of lace and a key hol...  \n",
       "3         1  New with tags. Leather horses. Retail for [rm]...  \n",
       "4         0          Complete with certificate of authenticity  "
      ]
     },
     "execution_count": 3,
     "metadata": {},
     "output_type": "execute_result"
    }
   ],
   "source": [
    "df.head(5)"
   ]
  },
  {
   "cell_type": "markdown",
   "metadata": {
    "id": "BCN3tYzRFucA"
   },
   "source": [
    "# Preprocessing: Separate the `category_name` column by \"/\"."
   ]
  },
  {
   "cell_type": "code",
   "execution_count": 4,
   "metadata": {
    "id": "Pival-zFFucB"
   },
   "outputs": [
    {
     "data": {
      "text/html": [
       "<div>\n",
       "<style scoped>\n",
       "    .dataframe tbody tr th:only-of-type {\n",
       "        vertical-align: middle;\n",
       "    }\n",
       "\n",
       "    .dataframe tbody tr th {\n",
       "        vertical-align: top;\n",
       "    }\n",
       "\n",
       "    .dataframe thead th {\n",
       "        text-align: right;\n",
       "    }\n",
       "</style>\n",
       "<table border=\"1\" class=\"dataframe\">\n",
       "  <thead>\n",
       "    <tr style=\"text-align: right;\">\n",
       "      <th></th>\n",
       "      <th>train_id</th>\n",
       "      <th>name</th>\n",
       "      <th>item_condition_id</th>\n",
       "      <th>category_name</th>\n",
       "      <th>brand_name</th>\n",
       "      <th>price</th>\n",
       "      <th>shipping</th>\n",
       "      <th>item_description</th>\n",
       "      <th>subcat_A</th>\n",
       "      <th>subcat_B</th>\n",
       "      <th>subcat_C</th>\n",
       "    </tr>\n",
       "  </thead>\n",
       "  <tbody>\n",
       "    <tr>\n",
       "      <th>0</th>\n",
       "      <td>0</td>\n",
       "      <td>MLB Cincinnati Reds T Shirt Size XL</td>\n",
       "      <td>3</td>\n",
       "      <td>Men/Tops/T-shirts</td>\n",
       "      <td>NaN</td>\n",
       "      <td>10.0</td>\n",
       "      <td>1</td>\n",
       "      <td>No description yet</td>\n",
       "      <td>Men</td>\n",
       "      <td>Tops</td>\n",
       "      <td>T-shirts</td>\n",
       "    </tr>\n",
       "    <tr>\n",
       "      <th>1</th>\n",
       "      <td>1</td>\n",
       "      <td>Razer BlackWidow Chroma Keyboard</td>\n",
       "      <td>3</td>\n",
       "      <td>Electronics/Computers &amp; Tablets/Components &amp; P...</td>\n",
       "      <td>Razer</td>\n",
       "      <td>52.0</td>\n",
       "      <td>0</td>\n",
       "      <td>This keyboard is in great condition and works ...</td>\n",
       "      <td>Electronics</td>\n",
       "      <td>Computers &amp; Tablets</td>\n",
       "      <td>Components &amp; Parts</td>\n",
       "    </tr>\n",
       "    <tr>\n",
       "      <th>2</th>\n",
       "      <td>2</td>\n",
       "      <td>AVA-VIV Blouse</td>\n",
       "      <td>1</td>\n",
       "      <td>Women/Tops &amp; Blouses/Blouse</td>\n",
       "      <td>Target</td>\n",
       "      <td>10.0</td>\n",
       "      <td>1</td>\n",
       "      <td>Adorable top with a hint of lace and a key hol...</td>\n",
       "      <td>Women</td>\n",
       "      <td>Tops &amp; Blouses</td>\n",
       "      <td>Blouse</td>\n",
       "    </tr>\n",
       "    <tr>\n",
       "      <th>3</th>\n",
       "      <td>3</td>\n",
       "      <td>Leather Horse Statues</td>\n",
       "      <td>1</td>\n",
       "      <td>Home/Home Décor/Home Décor Accents</td>\n",
       "      <td>NaN</td>\n",
       "      <td>35.0</td>\n",
       "      <td>1</td>\n",
       "      <td>New with tags. Leather horses. Retail for [rm]...</td>\n",
       "      <td>Home</td>\n",
       "      <td>Home Décor</td>\n",
       "      <td>Home Décor Accents</td>\n",
       "    </tr>\n",
       "    <tr>\n",
       "      <th>4</th>\n",
       "      <td>4</td>\n",
       "      <td>24K GOLD plated rose</td>\n",
       "      <td>1</td>\n",
       "      <td>Women/Jewelry/Necklaces</td>\n",
       "      <td>NaN</td>\n",
       "      <td>44.0</td>\n",
       "      <td>0</td>\n",
       "      <td>Complete with certificate of authenticity</td>\n",
       "      <td>Women</td>\n",
       "      <td>Jewelry</td>\n",
       "      <td>Necklaces</td>\n",
       "    </tr>\n",
       "  </tbody>\n",
       "</table>\n",
       "</div>"
      ],
      "text/plain": [
       "   train_id                                 name  item_condition_id  \\\n",
       "0         0  MLB Cincinnati Reds T Shirt Size XL                  3   \n",
       "1         1     Razer BlackWidow Chroma Keyboard                  3   \n",
       "2         2                       AVA-VIV Blouse                  1   \n",
       "3         3                Leather Horse Statues                  1   \n",
       "4         4                 24K GOLD plated rose                  1   \n",
       "\n",
       "                                       category_name brand_name  price  \\\n",
       "0                                  Men/Tops/T-shirts        NaN   10.0   \n",
       "1  Electronics/Computers & Tablets/Components & P...      Razer   52.0   \n",
       "2                        Women/Tops & Blouses/Blouse     Target   10.0   \n",
       "3                 Home/Home Décor/Home Décor Accents        NaN   35.0   \n",
       "4                            Women/Jewelry/Necklaces        NaN   44.0   \n",
       "\n",
       "   shipping                                   item_description     subcat_A  \\\n",
       "0         1                                 No description yet          Men   \n",
       "1         0  This keyboard is in great condition and works ...  Electronics   \n",
       "2         1  Adorable top with a hint of lace and a key hol...        Women   \n",
       "3         1  New with tags. Leather horses. Retail for [rm]...         Home   \n",
       "4         0          Complete with certificate of authenticity        Women   \n",
       "\n",
       "              subcat_B            subcat_C  \n",
       "0                 Tops            T-shirts  \n",
       "1  Computers & Tablets  Components & Parts  \n",
       "2       Tops & Blouses              Blouse  \n",
       "3           Home Décor  Home Décor Accents  \n",
       "4              Jewelry           Necklaces  "
      ]
     },
     "execution_count": 4,
     "metadata": {},
     "output_type": "execute_result"
    }
   ],
   "source": [
    "df[['subcat_A', 'subcat_B', 'subcat_C']] = df[\"category_name\"].str.split(pat = \"/\", expand = True, n = 2)\n",
    "df.head(5)"
   ]
  },
  {
   "cell_type": "markdown",
   "metadata": {
    "id": "74BI34NOFucI"
   },
   "source": [
    "# Preprocessing: Drop `category_name` and `train_id` columns."
   ]
  },
  {
   "cell_type": "code",
   "execution_count": 5,
   "metadata": {
    "id": "4kWThZesFucJ"
   },
   "outputs": [
    {
     "data": {
      "text/html": [
       "<div>\n",
       "<style scoped>\n",
       "    .dataframe tbody tr th:only-of-type {\n",
       "        vertical-align: middle;\n",
       "    }\n",
       "\n",
       "    .dataframe tbody tr th {\n",
       "        vertical-align: top;\n",
       "    }\n",
       "\n",
       "    .dataframe thead th {\n",
       "        text-align: right;\n",
       "    }\n",
       "</style>\n",
       "<table border=\"1\" class=\"dataframe\">\n",
       "  <thead>\n",
       "    <tr style=\"text-align: right;\">\n",
       "      <th></th>\n",
       "      <th>name</th>\n",
       "      <th>item_condition_id</th>\n",
       "      <th>brand_name</th>\n",
       "      <th>price</th>\n",
       "      <th>shipping</th>\n",
       "      <th>item_description</th>\n",
       "      <th>subcat_A</th>\n",
       "      <th>subcat_B</th>\n",
       "      <th>subcat_C</th>\n",
       "    </tr>\n",
       "  </thead>\n",
       "  <tbody>\n",
       "    <tr>\n",
       "      <th>0</th>\n",
       "      <td>MLB Cincinnati Reds T Shirt Size XL</td>\n",
       "      <td>3</td>\n",
       "      <td>NaN</td>\n",
       "      <td>10.0</td>\n",
       "      <td>1</td>\n",
       "      <td>No description yet</td>\n",
       "      <td>Men</td>\n",
       "      <td>Tops</td>\n",
       "      <td>T-shirts</td>\n",
       "    </tr>\n",
       "    <tr>\n",
       "      <th>1</th>\n",
       "      <td>Razer BlackWidow Chroma Keyboard</td>\n",
       "      <td>3</td>\n",
       "      <td>Razer</td>\n",
       "      <td>52.0</td>\n",
       "      <td>0</td>\n",
       "      <td>This keyboard is in great condition and works ...</td>\n",
       "      <td>Electronics</td>\n",
       "      <td>Computers &amp; Tablets</td>\n",
       "      <td>Components &amp; Parts</td>\n",
       "    </tr>\n",
       "    <tr>\n",
       "      <th>2</th>\n",
       "      <td>AVA-VIV Blouse</td>\n",
       "      <td>1</td>\n",
       "      <td>Target</td>\n",
       "      <td>10.0</td>\n",
       "      <td>1</td>\n",
       "      <td>Adorable top with a hint of lace and a key hol...</td>\n",
       "      <td>Women</td>\n",
       "      <td>Tops &amp; Blouses</td>\n",
       "      <td>Blouse</td>\n",
       "    </tr>\n",
       "    <tr>\n",
       "      <th>3</th>\n",
       "      <td>Leather Horse Statues</td>\n",
       "      <td>1</td>\n",
       "      <td>NaN</td>\n",
       "      <td>35.0</td>\n",
       "      <td>1</td>\n",
       "      <td>New with tags. Leather horses. Retail for [rm]...</td>\n",
       "      <td>Home</td>\n",
       "      <td>Home Décor</td>\n",
       "      <td>Home Décor Accents</td>\n",
       "    </tr>\n",
       "    <tr>\n",
       "      <th>4</th>\n",
       "      <td>24K GOLD plated rose</td>\n",
       "      <td>1</td>\n",
       "      <td>NaN</td>\n",
       "      <td>44.0</td>\n",
       "      <td>0</td>\n",
       "      <td>Complete with certificate of authenticity</td>\n",
       "      <td>Women</td>\n",
       "      <td>Jewelry</td>\n",
       "      <td>Necklaces</td>\n",
       "    </tr>\n",
       "  </tbody>\n",
       "</table>\n",
       "</div>"
      ],
      "text/plain": [
       "                                  name  item_condition_id brand_name  price  \\\n",
       "0  MLB Cincinnati Reds T Shirt Size XL                  3        NaN   10.0   \n",
       "1     Razer BlackWidow Chroma Keyboard                  3      Razer   52.0   \n",
       "2                       AVA-VIV Blouse                  1     Target   10.0   \n",
       "3                Leather Horse Statues                  1        NaN   35.0   \n",
       "4                 24K GOLD plated rose                  1        NaN   44.0   \n",
       "\n",
       "   shipping                                   item_description     subcat_A  \\\n",
       "0         1                                 No description yet          Men   \n",
       "1         0  This keyboard is in great condition and works ...  Electronics   \n",
       "2         1  Adorable top with a hint of lace and a key hol...        Women   \n",
       "3         1  New with tags. Leather horses. Retail for [rm]...         Home   \n",
       "4         0          Complete with certificate of authenticity        Women   \n",
       "\n",
       "              subcat_B            subcat_C  \n",
       "0                 Tops            T-shirts  \n",
       "1  Computers & Tablets  Components & Parts  \n",
       "2       Tops & Blouses              Blouse  \n",
       "3           Home Décor  Home Décor Accents  \n",
       "4              Jewelry           Necklaces  "
      ]
     },
     "execution_count": 5,
     "metadata": {},
     "output_type": "execute_result"
    }
   ],
   "source": [
    "df.drop(columns = [\"train_id\", \"category_name\"], inplace = True)\n",
    "\n",
    "df.head(5)"
   ]
  },
  {
   "cell_type": "markdown",
   "metadata": {
    "id": "GzoWpilyFucR"
   },
   "source": [
    "# Preprocessing: Look for empty data in subcat cols, `price` <= 0 or `price` = NaN."
   ]
  },
  {
   "cell_type": "code",
   "execution_count": 6,
   "metadata": {
    "id": "2nRrQNKhFucS"
   },
   "outputs": [
    {
     "data": {
      "text/html": [
       "<div>\n",
       "<style scoped>\n",
       "    .dataframe tbody tr th:only-of-type {\n",
       "        vertical-align: middle;\n",
       "    }\n",
       "\n",
       "    .dataframe tbody tr th {\n",
       "        vertical-align: top;\n",
       "    }\n",
       "\n",
       "    .dataframe thead th {\n",
       "        text-align: right;\n",
       "    }\n",
       "</style>\n",
       "<table border=\"1\" class=\"dataframe\">\n",
       "  <thead>\n",
       "    <tr style=\"text-align: right;\">\n",
       "      <th></th>\n",
       "      <th>name</th>\n",
       "      <th>item_condition_id</th>\n",
       "      <th>brand_name</th>\n",
       "      <th>price</th>\n",
       "      <th>shipping</th>\n",
       "      <th>item_description</th>\n",
       "      <th>subcat_A</th>\n",
       "      <th>subcat_B</th>\n",
       "      <th>subcat_C</th>\n",
       "    </tr>\n",
       "  </thead>\n",
       "  <tbody>\n",
       "    <tr>\n",
       "      <th>1325</th>\n",
       "      <td>Alabama Crimson Tide Quality Lanyard</td>\n",
       "      <td>1</td>\n",
       "      <td>NaN</td>\n",
       "      <td>0.0</td>\n",
       "      <td>1</td>\n",
       "      <td>TOP QUALITY THICK LANYARD Reversible sides wit...</td>\n",
       "      <td>Sports &amp; Outdoors</td>\n",
       "      <td>Fan Shop</td>\n",
       "      <td>NCAA</td>\n",
       "    </tr>\n",
       "    <tr>\n",
       "      <th>2544</th>\n",
       "      <td>Levi leggings</td>\n",
       "      <td>3</td>\n",
       "      <td>Levi's®</td>\n",
       "      <td>0.0</td>\n",
       "      <td>0</td>\n",
       "      <td>Light wash. Hardly worn. Size 24 but fits like...</td>\n",
       "      <td>Women</td>\n",
       "      <td>Jeans</td>\n",
       "      <td>Slim, Skinny</td>\n",
       "    </tr>\n",
       "    <tr>\n",
       "      <th>2712</th>\n",
       "      <td>Simple Red Lace Lingerie Top</td>\n",
       "      <td>3</td>\n",
       "      <td>NaN</td>\n",
       "      <td>0.0</td>\n",
       "      <td>0</td>\n",
       "      <td>Very simple but cute, a little form fitting as...</td>\n",
       "      <td>Women</td>\n",
       "      <td>Underwear</td>\n",
       "      <td>G-Strings &amp; Thongs</td>\n",
       "    </tr>\n",
       "    <tr>\n",
       "      <th>3576</th>\n",
       "      <td>Turquoise 15 Pc Makeup Brush Set</td>\n",
       "      <td>1</td>\n",
       "      <td>NaN</td>\n",
       "      <td>0.0</td>\n",
       "      <td>1</td>\n",
       "      <td>1 left!</td>\n",
       "      <td>Beauty</td>\n",
       "      <td>Tools &amp; Accessories</td>\n",
       "      <td>Makeup Brushes &amp; Tools</td>\n",
       "    </tr>\n",
       "    <tr>\n",
       "      <th>3761</th>\n",
       "      <td>Girls size 7/8</td>\n",
       "      <td>3</td>\n",
       "      <td>NaN</td>\n",
       "      <td>0.0</td>\n",
       "      <td>1</td>\n",
       "      <td>5 pair gap jean excellent used condition 3 chi...</td>\n",
       "      <td>Kids</td>\n",
       "      <td>Girls (4+)</td>\n",
       "      <td>Tops &amp; T-Shirts</td>\n",
       "    </tr>\n",
       "    <tr>\n",
       "      <th>...</th>\n",
       "      <td>...</td>\n",
       "      <td>...</td>\n",
       "      <td>...</td>\n",
       "      <td>...</td>\n",
       "      <td>...</td>\n",
       "      <td>...</td>\n",
       "      <td>...</td>\n",
       "      <td>...</td>\n",
       "      <td>...</td>\n",
       "    </tr>\n",
       "    <tr>\n",
       "      <th>1474172</th>\n",
       "      <td>Homecoming or Dama ivory dress</td>\n",
       "      <td>2</td>\n",
       "      <td>NaN</td>\n",
       "      <td>0.0</td>\n",
       "      <td>0</td>\n",
       "      <td>Ivory formal dress. I wore this dress once for...</td>\n",
       "      <td>Women</td>\n",
       "      <td>Dresses</td>\n",
       "      <td>Above Knee, Mini</td>\n",
       "    </tr>\n",
       "    <tr>\n",
       "      <th>1474198</th>\n",
       "      <td>Tie up flannel top</td>\n",
       "      <td>3</td>\n",
       "      <td>NaN</td>\n",
       "      <td>0.0</td>\n",
       "      <td>1</td>\n",
       "      <td>I got this last year and just didnt wear it mu...</td>\n",
       "      <td>Women</td>\n",
       "      <td>Tops &amp; Blouses</td>\n",
       "      <td>Blouse</td>\n",
       "    </tr>\n",
       "    <tr>\n",
       "      <th>1477958</th>\n",
       "      <td>Rae Dunn Measuring Pear</td>\n",
       "      <td>3</td>\n",
       "      <td>NaN</td>\n",
       "      <td>0.0</td>\n",
       "      <td>0</td>\n",
       "      <td>The dash lid appears it was dropped and a piec...</td>\n",
       "      <td>Home</td>\n",
       "      <td>Home Décor</td>\n",
       "      <td>Home Décor Accents</td>\n",
       "    </tr>\n",
       "    <tr>\n",
       "      <th>1478519</th>\n",
       "      <td>4 pairs women's wool boots socks</td>\n",
       "      <td>1</td>\n",
       "      <td>NaN</td>\n",
       "      <td>0.0</td>\n",
       "      <td>1</td>\n",
       "      <td>✔️SHARE YOUR SOCKS WITH FRIENDS AND FAMILY! ✔️...</td>\n",
       "      <td>Women</td>\n",
       "      <td>Shoes</td>\n",
       "      <td>Boots</td>\n",
       "    </tr>\n",
       "    <tr>\n",
       "      <th>1478813</th>\n",
       "      <td>New Braven HD Waterprf Wireless</td>\n",
       "      <td>1</td>\n",
       "      <td>NaN</td>\n",
       "      <td>0.0</td>\n",
       "      <td>0</td>\n",
       "      <td>The BRV-1 gives action sports and outdoor enth...</td>\n",
       "      <td>Electronics</td>\n",
       "      <td>TV, Audio &amp; Surveillance</td>\n",
       "      <td>Home Speakers &amp; Subwoofers</td>\n",
       "    </tr>\n",
       "  </tbody>\n",
       "</table>\n",
       "<p>874 rows × 9 columns</p>\n",
       "</div>"
      ],
      "text/plain": [
       "                                         name  item_condition_id brand_name  \\\n",
       "1325     Alabama Crimson Tide Quality Lanyard                  1        NaN   \n",
       "2544                            Levi leggings                  3    Levi's®   \n",
       "2712             Simple Red Lace Lingerie Top                  3        NaN   \n",
       "3576         Turquoise 15 Pc Makeup Brush Set                  1        NaN   \n",
       "3761                           Girls size 7/8                  3        NaN   \n",
       "...                                       ...                ...        ...   \n",
       "1474172        Homecoming or Dama ivory dress                  2        NaN   \n",
       "1474198                    Tie up flannel top                  3        NaN   \n",
       "1477958               Rae Dunn Measuring Pear                  3        NaN   \n",
       "1478519      4 pairs women's wool boots socks                  1        NaN   \n",
       "1478813       New Braven HD Waterprf Wireless                  1        NaN   \n",
       "\n",
       "         price  shipping                                   item_description  \\\n",
       "1325       0.0         1  TOP QUALITY THICK LANYARD Reversible sides wit...   \n",
       "2544       0.0         0  Light wash. Hardly worn. Size 24 but fits like...   \n",
       "2712       0.0         0  Very simple but cute, a little form fitting as...   \n",
       "3576       0.0         1                                            1 left!   \n",
       "3761       0.0         1  5 pair gap jean excellent used condition 3 chi...   \n",
       "...        ...       ...                                                ...   \n",
       "1474172    0.0         0  Ivory formal dress. I wore this dress once for...   \n",
       "1474198    0.0         1  I got this last year and just didnt wear it mu...   \n",
       "1477958    0.0         0  The dash lid appears it was dropped and a piec...   \n",
       "1478519    0.0         1  ✔️SHARE YOUR SOCKS WITH FRIENDS AND FAMILY! ✔️...   \n",
       "1478813    0.0         0  The BRV-1 gives action sports and outdoor enth...   \n",
       "\n",
       "                  subcat_A                  subcat_B  \\\n",
       "1325     Sports & Outdoors                  Fan Shop   \n",
       "2544                 Women                     Jeans   \n",
       "2712                 Women                 Underwear   \n",
       "3576                Beauty       Tools & Accessories   \n",
       "3761                  Kids                Girls (4+)   \n",
       "...                    ...                       ...   \n",
       "1474172              Women                   Dresses   \n",
       "1474198              Women            Tops & Blouses   \n",
       "1477958               Home                Home Décor   \n",
       "1478519              Women                     Shoes   \n",
       "1478813        Electronics  TV, Audio & Surveillance   \n",
       "\n",
       "                           subcat_C  \n",
       "1325                           NCAA  \n",
       "2544                   Slim, Skinny  \n",
       "2712             G-Strings & Thongs  \n",
       "3576         Makeup Brushes & Tools  \n",
       "3761                Tops & T-Shirts  \n",
       "...                             ...  \n",
       "1474172            Above Knee, Mini  \n",
       "1474198                      Blouse  \n",
       "1477958          Home Décor Accents  \n",
       "1478519                       Boots  \n",
       "1478813  Home Speakers & Subwoofers  \n",
       "\n",
       "[874 rows x 9 columns]"
      ]
     },
     "execution_count": 6,
     "metadata": {},
     "output_type": "execute_result"
    }
   ],
   "source": [
    "\n",
    "df.loc[df['subcat_A'].isna()]\n",
    "\n",
    "\n",
    "df.loc[df['subcat_B'].isna()]\n",
    "\n",
    "\n",
    "df.loc[df['subcat_C'].isna()]\n",
    "\n",
    "\n",
    "df.loc[df['price'].isna()]\n",
    "\n",
    "\n",
    "df.loc[df['price'] <= 0] "
   ]
  },
  {
   "cell_type": "markdown",
   "metadata": {
    "id": "ssPaPzcnFucX"
   },
   "source": [
    "# Preprocessing: Fill in blanks for NaN entries."
   ]
  },
  {
   "cell_type": "code",
   "execution_count": 7,
   "metadata": {
    "id": "WljJCSYmFucZ"
   },
   "outputs": [],
   "source": [
    "df.fillna('', inplace = True)"
   ]
  },
  {
   "cell_type": "markdown",
   "metadata": {
    "id": "D0VobrpzFuce"
   },
   "source": [
    "# Preprocessing: Convert `item_condition_id` to numpy array. One-hot encode `brand_name`, `shipping` and `subcat` columns."
   ]
  },
  {
   "cell_type": "code",
   "execution_count": 8,
   "metadata": {
    "id": "dIYF9IxyFucf"
   },
   "outputs": [
    {
     "name": "stdout",
     "output_type": "stream",
     "text": [
      "--------------------------------------------------------------------------------\n",
      "item_cond_arr type and dimensions are: \n",
      "<class 'numpy.ndarray'>\n",
      "(1482535, 1)\n",
      "--------------------------------------------------------------------------------\n",
      "Type and dimensions of one-hot encoded variables are: \n",
      "<class 'scipy.sparse.csr.csr_matrix'>\n",
      "(1482535, 5809)\n",
      "--------------------------------------------------------------------------------\n"
     ]
    }
   ],
   "source": [
    "item_cond_arr = np.reshape(df[\"item_condition_id\"].to_numpy(), (-1,1))\n",
    "\n",
    "\n",
    "print(\"-\"*80)\n",
    "print(\"item_cond_arr type and dimensions are: \")\n",
    "print(type(item_cond_arr))\n",
    "print(item_cond_arr.shape)\n",
    "\n",
    "\n",
    "enc = OneHotEncoder(sparse=True)\n",
    "\n",
    "onehot_arr = enc.fit_transform(df[['brand_name', 'shipping', 'subcat_A', 'subcat_B', 'subcat_C']])\n",
    "\n",
    "print(\"-\"*80)\n",
    "print(\"Type and dimensions of one-hot encoded variables are: \")\n",
    "print(type(onehot_arr))\n",
    "print(onehot_arr.shape)\n",
    "print(\"-\"*80)"
   ]
  },
  {
   "cell_type": "code",
   "execution_count": 9,
   "metadata": {
    "id": "gKFWLBDMFucm"
   },
   "outputs": [],
   "source": [
    "\n",
    "vector = CountVectorizer()\n",
    "Z = vector.fit_transform(df['name'])"
   ]
  },
  {
   "cell_type": "code",
   "execution_count": 10,
   "metadata": {
    "id": "nRipu42RFuct"
   },
   "outputs": [],
   "source": [
    "\n",
    "vector2 = TfidfVectorizer()\n",
    "ZZ = vector2.fit_transform(df['item_description'])"
   ]
  },
  {
   "cell_type": "markdown",
   "metadata": {
    "id": "4tkAd8-FFucy"
   },
   "source": [
    "# Preprocessing: Concatenate `item_cond_arr`,`onehot_arr` together into `X`. Create array `y` of labels. Display type and dimensions."
   ]
  },
  {
   "cell_type": "code",
   "execution_count": 11,
   "metadata": {
    "id": "OGJDpRs9Fuc0"
   },
   "outputs": [
    {
     "name": "stdout",
     "output_type": "stream",
     "text": [
      "(1482535, 273599)\n",
      "<class 'scipy.sparse.coo.coo_matrix'>\n",
      "(1482535, 1)\n",
      "<class 'numpy.ndarray'>\n",
      "4.57763671875e-05\n",
      "float64\n",
      "45717124\n"
     ]
    }
   ],
   "source": [
    "y = np.reshape(df[\"price\"].to_numpy(), (-1,1))\n",
    "\n",
    "print(X.shape)\n",
    "print(type(X))\n",
    "\n",
    "print(y.shape)\n",
    "print(type(y))\n",
    "\n",
    "print(sys.getsizeof(X) / (1024*1024))\n",
    "print(X.dtype)\n",
    "print(X.nnz)"
   ]
  },
  {
   "cell_type": "markdown",
   "metadata": {
    "id": "BWfM8_DyFuc6"
   },
   "source": [
    "# Train-test split: Perform 80-20 train-test split. Stratify along `shipping` variable."
   ]
  },
  {
   "cell_type": "code",
   "execution_count": 12,
   "metadata": {
    "id": "y--blrpmFuc8"
   },
   "outputs": [],
   "source": [
    "X_train, X_test, y_train, y_test = train_test_split(X, y, random_state=42, stratify = df[\"shipping\"])"
   ]
  },
  {
   "cell_type": "markdown",
   "metadata": {
    "id": "wAoclOqqFudB"
   },
   "source": [
    "# Print sparsity and file size statistics for train_test_split outputs."
   ]
  },
  {
   "cell_type": "code",
   "execution_count": 13,
   "metadata": {
    "id": "CwcC8JmXFudC"
   },
   "outputs": [
    {
     "name": "stdout",
     "output_type": "stream",
     "text": [
      "--------------------------------------------------------------------------------\n",
      "Dimensions of X_train, X_test, y_train and y_test ...\n",
      "\n",
      "(1111901, 273599)\n",
      "(370634, 273599)\n",
      "(1111901, 1)\n",
      "(370634, 1)\n",
      "--------------------------------------------------------------------------------\n",
      "Types of of X_train, X_test, y_train and y_test ...\n",
      "\n",
      "<class 'scipy.sparse.csr.csr_matrix'>\n",
      "<class 'scipy.sparse.csr.csr_matrix'>\n",
      "<class 'numpy.ndarray'>\n",
      "<class 'numpy.ndarray'>\n",
      "--------------------------------------------------------------------------------\n",
      "Sparsity of X_train and X_test ...\n",
      "\n",
      "0.00011272327402818125\n",
      "0.00011266705449430578\n",
      "--------------------------------------------------------------------------------\n",
      "Disk size of X_train, X_test, y_train and y_test ...\n",
      "\n",
      "4.57763671875e-05\n",
      "4.57763671875e-05\n",
      "8.483238220214844\n",
      "2.82781982421875\n",
      "--------------------------------------------------------------------------------\n"
     ]
    }
   ],
   "source": [
    "print(\"-\" * 80)\n",
    "print(\"Dimensions of X_train, X_test, y_train and y_test ...\")\n",
    "print(\"\")\n",
    "\n",
    "print(X_train.shape)\n",
    "print(X_test.shape)\n",
    "print(y_train.shape)\n",
    "print(y_test.shape)\n",
    "\n",
    "print(\"-\" * 80)\n",
    "print(\"Types of of X_train, X_test, y_train and y_test ...\")\n",
    "print(\"\")\n",
    "\n",
    "print(type(X_train))\n",
    "print(type(X_test))\n",
    "print(type(y_train))\n",
    "print(type(y_test))\n",
    "\n",
    "print(\"-\" * 80)\n",
    "print(\"Sparsity of X_train and X_test ...\")\n",
    "print(\"\")\n",
    "\n",
    "print(X_train.nnz / (X_train.shape[0] * X_train.shape[1]))\n",
    "print(X_test.nnz / (X_test.shape[0] * X_test.shape[1]))\n",
    "\n",
    "print(\"-\" * 80)\n",
    "print(\"Disk size of X_train, X_test, y_train and y_test ...\")\n",
    "print(\"\")\n",
    "\n",
    "print(sys.getsizeof(X_train) / (1024*1024))\n",
    "print(sys.getsizeof(X_test) / (1024*1024))\n",
    "print(sys.getsizeof(y_train) / (1024*1024))\n",
    "print(sys.getsizeof(y_test) / (1024*1024))\n",
    "\n",
    "print(\"-\" * 80)"
   ]
  },
  {
   "cell_type": "markdown",
   "metadata": {
    "id": "FhO8d0EWFudI"
   },
   "source": [
    "# Log transform target variable `y`."
   ]
  },
  {
   "cell_type": "code",
   "execution_count": 14,
   "metadata": {
    "id": "Rh2Ygjr_FudJ"
   },
   "outputs": [],
   "source": [
    "y_train_log = np.log1p(y_train)\n",
    "y_test_log = np.log1p(y_test)"
   ]
  },
  {
   "cell_type": "markdown",
   "metadata": {
    "id": "9pb3N_w_FudN"
   },
   "source": [
    "# XGBoost: Set regressor model tuning parameters. "
   ]
  },
  {
   "cell_type": "code",
   "execution_count": 15,
   "metadata": {
    "id": "QXuWJC2DFudN"
   },
   "outputs": [],
   "source": [
    "#Inferior Model commented out, but still functional.\n",
    "\n",
    "#XGB_regressor = XGBRegressor(\n",
    "#    n_estimators = 150,\n",
    "#   reg_lambda = 2,\n",
    "#   gamma = 0.3,\n",
    "#    max_depth = 8,\n",
    "#    learning_rate = 0.1,\n",
    "#    reg_alpha = 0,\n",
    "#    subsample = 1,\n",
    "#    colsample_bytree = 1\n",
    "#)\n",
    "\n",
    "\n",
    "\n",
    "#params = {\n",
    "#    'gamma' : [0.3, 0.5, 0.7],\n",
    "#    'max_depth' : [4, 8, 16]\n",
    "# }\n",
    "\n",
    "#XGB_gsc = GridSearchCV(\n",
    "#     estimator = XGBRegressor(n_estimators = 150, colsample_bytree = 1),\n",
    "#     param_grid = params,\n",
    "#     cv = 3,\n",
    "#     scoring = 'neg_mean_squared_error',\n",
    "#     verbose = 10,\n",
    "#     n_jobs = 3\n",
    "# )\n",
    "#XX = XGB_gsc.best_params_\n",
    "#print(XX)"
   ]
  },
  {
   "cell_type": "markdown",
   "metadata": {
    "id": "9C7WFY2IFudT"
   },
   "source": [
    "# Alternative Model?: Set regressor model tuning parameters. "
   ]
  },
  {
   "cell_type": "code",
   "execution_count": 16,
   "metadata": {
    "id": "So_LXbBOFudU"
   },
   "outputs": [],
   "source": [
    "my_LGB_regressor = lgb.LGBMRegressor(\n",
    "  n_estimators = 500,\n",
    "  max_depth = 15,\n",
    "  learning_rate = 0.1,\n",
    "  colsample_bytree = 1,\n",
    "  num_leaves = 75,\n",
    "  application = 'regression',\n",
    "  metric = 'RMSE',\n",
    "  boosting_type = 'gbdt'\n",
    "  )\n"
   ]
  },
  {
   "cell_type": "markdown",
   "metadata": {
    "id": "K6uzKNV3Fuda"
   },
   "source": [
    "# XGBoost: Train model. Use `X_train`."
   ]
  },
  {
   "cell_type": "code",
   "execution_count": 17,
   "metadata": {
    "id": "jnprZvgpFuda"
   },
   "outputs": [],
   "source": [
    "#start_time = time.time()\n",
    "\n",
    "#XGB_gsc.fit(X_train, y_train_log)\n",
    "\n",
    "#end_time = time.time()\n",
    "#print(\"Time to fit XGBoost regressor model in minutes: \", (end_time - start_time) / 60.0)"
   ]
  },
  {
   "cell_type": "markdown",
   "metadata": {
    "id": "vdtQZTWJFudf"
   },
   "source": [
    "# Alternative Model?: Train model. Use `X_train`."
   ]
  },
  {
   "cell_type": "code",
   "execution_count": 18,
   "metadata": {
    "id": "eTzeyp4hFudg"
   },
   "outputs": [
    {
     "name": "stdout",
     "output_type": "stream",
     "text": [
      "Time to fit LightGBM regressor model in minutes:  10.9158997575442\n"
     ]
    }
   ],
   "source": [
    "\n",
    "start_time = time.time()\n",
    "\n",
    "\n",
    "my_LGB_regressor.fit(X_train, y_train_log.ravel(), verbose = True)\n",
    "\n",
    "end_time = time.time()\n",
    "print(\"Time to fit LightGBM regressor model in minutes: \", (end_time - start_time) / 60.0)"
   ]
  },
  {
   "cell_type": "markdown",
   "metadata": {
    "id": "fH6CcRhyFudk"
   },
   "source": [
    "# XGBoost: Perform predictions with regressor model. Use `X_test`."
   ]
  },
  {
   "cell_type": "code",
   "execution_count": 19,
   "metadata": {
    "id": "Akay0aErFudl"
   },
   "outputs": [],
   "source": [
    "#y_pred_xgb_log = XGB_gsc.predict(X_test)"
   ]
  },
  {
   "cell_type": "markdown",
   "metadata": {
    "id": "Q5UNQJA4Fudp"
   },
   "source": [
    "# Alternative Model?: Perform predictions with regressor model. Use `X_test`."
   ]
  },
  {
   "cell_type": "code",
   "execution_count": 20,
   "metadata": {
    "id": "YEYVw_V4Fudr"
   },
   "outputs": [],
   "source": [
    "y_pred_lbm_log = my_LGB_regressor.predict(X_test)"
   ]
  },
  {
   "cell_type": "markdown",
   "metadata": {
    "id": "bGKyMaXpFudw"
   },
   "source": [
    "# Get RMSLE for regressor model."
   ]
  },
  {
   "cell_type": "code",
   "execution_count": 21,
   "metadata": {
    "id": "J5aJWDSwFudz"
   },
   "outputs": [
    {
     "data": {
      "text/plain": [
       "0.47795895812578004"
      ]
     },
     "execution_count": 21,
     "metadata": {},
     "output_type": "execute_result"
    }
   ],
   "source": [
    "np.sqrt(mean_squared_error(y_test_log, y_pred_lbm_log))"
   ]
  }
 ],
 "metadata": {
  "colab": {
   "name": "mercari_iter_one.ipynb",
   "provenance": []
  },
  "kernelspec": {
   "display_name": "Python 3",
   "language": "python",
   "name": "python3"
  },
  "language_info": {
   "codemirror_mode": {
    "name": "ipython",
    "version": 3
   },
   "file_extension": ".py",
   "mimetype": "text/x-python",
   "name": "python",
   "nbconvert_exporter": "python",
   "pygments_lexer": "ipython3",
   "version": "3.8.3"
  }
 },
 "nbformat": 4,
 "nbformat_minor": 1
}
